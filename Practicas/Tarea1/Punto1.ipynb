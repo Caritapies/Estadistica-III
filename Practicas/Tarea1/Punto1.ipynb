{
 "cells": [
  {
   "cell_type": "markdown",
   "id": "6110d790-92d9-4544-94f0-7e7fce4a1a3c",
   "metadata": {},
   "source": [
    "# Tarea 1 - exploración de datos Y PCA\n"
   ]
  },
  {
   "cell_type": "markdown",
   "source": [
    "## Punto no1"
   ],
   "metadata": {
    "collapsed": false
   },
   "id": "88a485ba935b26e2"
  },
  {
   "cell_type": "code",
   "execution_count": 10,
   "id": "793c2ada-9e86-4b8a-ac21-6201f0c9ce7e",
   "metadata": {
    "ExecuteTime": {
     "end_time": "2024-03-11T16:53:44.659237200Z",
     "start_time": "2024-03-11T16:53:44.558540500Z"
    }
   },
   "outputs": [],
   "source": [
    "import pandas as pd\n",
    "import matplotlib.pyplot as plt\n",
    "import math\n",
    "\n",
    "df = pd.read_csv(\"../data/DEPARTMENTS.csv\")\n",
    "column_1 = df['PIB millones']\n",
    "column_2 = df['Población']\n",
    "column_3 = df['PIB per capita millones']"
   ]
  },
  {
   "cell_type": "code",
   "execution_count": 11,
   "id": "5982d0c0-2d34-4e62-b9dd-358420be5501",
   "metadata": {
    "ExecuteTime": {
     "end_time": "2024-03-11T16:53:44.768630400Z",
     "start_time": "2024-03-11T16:53:44.567711700Z"
    }
   },
   "outputs": [
    {
     "data": {
      "text/plain": "                                         Departamento  PIB millones  \\\n0                                            Amazonas  1.067856e+06   \n1                                           Antioquia  2.125150e+08   \n2                                              Arauca  8.548115e+06   \n3                                           Atlántico  6.376477e+07   \n4                                         Bogotá D.C.  3.572586e+08   \n5                                             Bolívar  5.140435e+07   \n6                                              Boyacá  3.885816e+07   \n7                                              Caldas  2.395311e+07   \n8                                             Caquetá  5.461367e+06   \n9                                            Casanare  2.366066e+07   \n10                                              Cauca  2.575815e+07   \n11                                              Cesar  3.752392e+07   \n12                                              Chocó  6.001845e+06   \n13                                            Córdoba  2.499195e+07   \n14                                       Cundinamarca  9.194594e+07   \n15                                            Guainía  4.977040e+05   \n16                                           Guaviare  1.123858e+06   \n17                                              Huila  2.401162e+07   \n18                                         La Guajira  2.226258e+07   \n19                                          Magdalena  1.973842e+07   \n20                                               Meta  5.843950e+07   \n21                                             Nariño  2.177543e+07   \n22                                 Norte de Santander  2.305687e+07   \n23                                           Putumayo  5.616558e+06   \n24                                            Quindío  1.194164e+07   \n25                                          Risaralda  2.378636e+07   \n26  San Andrés Providencia y Santa Catalina (Archi...  2.125410e+06   \n27                                          Santander  9.227668e+07   \n28                                              Sucre  1.151627e+07   \n29                                             Tolima  3.043818e+07   \n30                                    Valle del Cauca  1.398632e+08   \n31                                             Vaupés  3.818517e+05   \n32                                            Vichada  9.565767e+05   \n\n    Población  PIB per capita millones  \n0       76589                13.942677  \n1     6407102                33.168655  \n2      262174                32.604738  \n3     2535517                25.148627  \n4     7412566                48.196349  \n5     2070110                24.831701  \n6     1217376                31.919606  \n7      998255                23.994984  \n8      401849                13.590594  \n9      420504                56.267378  \n10    1464488                17.588503  \n11    1200574                31.254982  \n12     534826                11.222051  \n13    1784783                14.002797  \n14    2919060                31.498476  \n15      48114                10.344266  \n16      82767                13.578572  \n17    1100386                21.821085  \n18     880560                25.282293  \n19    1341746                14.710994  \n20    1039722                56.206852  \n21    1630592                13.354307  \n22    1491689                15.456891  \n23     348182                16.131099  \n24     539904                22.118088  \n25     943401                25.213417  \n26      61280                34.683589  \n27    2184837                42.235040  \n28     904863                12.727088  \n29    1330187                22.882632  \n30    4475886                31.248149  \n31      40797                 9.359798  \n32     107808                 8.872966  ",
      "text/html": "<div>\n<style scoped>\n    .dataframe tbody tr th:only-of-type {\n        vertical-align: middle;\n    }\n\n    .dataframe tbody tr th {\n        vertical-align: top;\n    }\n\n    .dataframe thead th {\n        text-align: right;\n    }\n</style>\n<table border=\"1\" class=\"dataframe\">\n  <thead>\n    <tr style=\"text-align: right;\">\n      <th></th>\n      <th>Departamento</th>\n      <th>PIB millones</th>\n      <th>Población</th>\n      <th>PIB per capita millones</th>\n    </tr>\n  </thead>\n  <tbody>\n    <tr>\n      <th>0</th>\n      <td>Amazonas</td>\n      <td>1.067856e+06</td>\n      <td>76589</td>\n      <td>13.942677</td>\n    </tr>\n    <tr>\n      <th>1</th>\n      <td>Antioquia</td>\n      <td>2.125150e+08</td>\n      <td>6407102</td>\n      <td>33.168655</td>\n    </tr>\n    <tr>\n      <th>2</th>\n      <td>Arauca</td>\n      <td>8.548115e+06</td>\n      <td>262174</td>\n      <td>32.604738</td>\n    </tr>\n    <tr>\n      <th>3</th>\n      <td>Atlántico</td>\n      <td>6.376477e+07</td>\n      <td>2535517</td>\n      <td>25.148627</td>\n    </tr>\n    <tr>\n      <th>4</th>\n      <td>Bogotá D.C.</td>\n      <td>3.572586e+08</td>\n      <td>7412566</td>\n      <td>48.196349</td>\n    </tr>\n    <tr>\n      <th>5</th>\n      <td>Bolívar</td>\n      <td>5.140435e+07</td>\n      <td>2070110</td>\n      <td>24.831701</td>\n    </tr>\n    <tr>\n      <th>6</th>\n      <td>Boyacá</td>\n      <td>3.885816e+07</td>\n      <td>1217376</td>\n      <td>31.919606</td>\n    </tr>\n    <tr>\n      <th>7</th>\n      <td>Caldas</td>\n      <td>2.395311e+07</td>\n      <td>998255</td>\n      <td>23.994984</td>\n    </tr>\n    <tr>\n      <th>8</th>\n      <td>Caquetá</td>\n      <td>5.461367e+06</td>\n      <td>401849</td>\n      <td>13.590594</td>\n    </tr>\n    <tr>\n      <th>9</th>\n      <td>Casanare</td>\n      <td>2.366066e+07</td>\n      <td>420504</td>\n      <td>56.267378</td>\n    </tr>\n    <tr>\n      <th>10</th>\n      <td>Cauca</td>\n      <td>2.575815e+07</td>\n      <td>1464488</td>\n      <td>17.588503</td>\n    </tr>\n    <tr>\n      <th>11</th>\n      <td>Cesar</td>\n      <td>3.752392e+07</td>\n      <td>1200574</td>\n      <td>31.254982</td>\n    </tr>\n    <tr>\n      <th>12</th>\n      <td>Chocó</td>\n      <td>6.001845e+06</td>\n      <td>534826</td>\n      <td>11.222051</td>\n    </tr>\n    <tr>\n      <th>13</th>\n      <td>Córdoba</td>\n      <td>2.499195e+07</td>\n      <td>1784783</td>\n      <td>14.002797</td>\n    </tr>\n    <tr>\n      <th>14</th>\n      <td>Cundinamarca</td>\n      <td>9.194594e+07</td>\n      <td>2919060</td>\n      <td>31.498476</td>\n    </tr>\n    <tr>\n      <th>15</th>\n      <td>Guainía</td>\n      <td>4.977040e+05</td>\n      <td>48114</td>\n      <td>10.344266</td>\n    </tr>\n    <tr>\n      <th>16</th>\n      <td>Guaviare</td>\n      <td>1.123858e+06</td>\n      <td>82767</td>\n      <td>13.578572</td>\n    </tr>\n    <tr>\n      <th>17</th>\n      <td>Huila</td>\n      <td>2.401162e+07</td>\n      <td>1100386</td>\n      <td>21.821085</td>\n    </tr>\n    <tr>\n      <th>18</th>\n      <td>La Guajira</td>\n      <td>2.226258e+07</td>\n      <td>880560</td>\n      <td>25.282293</td>\n    </tr>\n    <tr>\n      <th>19</th>\n      <td>Magdalena</td>\n      <td>1.973842e+07</td>\n      <td>1341746</td>\n      <td>14.710994</td>\n    </tr>\n    <tr>\n      <th>20</th>\n      <td>Meta</td>\n      <td>5.843950e+07</td>\n      <td>1039722</td>\n      <td>56.206852</td>\n    </tr>\n    <tr>\n      <th>21</th>\n      <td>Nariño</td>\n      <td>2.177543e+07</td>\n      <td>1630592</td>\n      <td>13.354307</td>\n    </tr>\n    <tr>\n      <th>22</th>\n      <td>Norte de Santander</td>\n      <td>2.305687e+07</td>\n      <td>1491689</td>\n      <td>15.456891</td>\n    </tr>\n    <tr>\n      <th>23</th>\n      <td>Putumayo</td>\n      <td>5.616558e+06</td>\n      <td>348182</td>\n      <td>16.131099</td>\n    </tr>\n    <tr>\n      <th>24</th>\n      <td>Quindío</td>\n      <td>1.194164e+07</td>\n      <td>539904</td>\n      <td>22.118088</td>\n    </tr>\n    <tr>\n      <th>25</th>\n      <td>Risaralda</td>\n      <td>2.378636e+07</td>\n      <td>943401</td>\n      <td>25.213417</td>\n    </tr>\n    <tr>\n      <th>26</th>\n      <td>San Andrés Providencia y Santa Catalina (Archi...</td>\n      <td>2.125410e+06</td>\n      <td>61280</td>\n      <td>34.683589</td>\n    </tr>\n    <tr>\n      <th>27</th>\n      <td>Santander</td>\n      <td>9.227668e+07</td>\n      <td>2184837</td>\n      <td>42.235040</td>\n    </tr>\n    <tr>\n      <th>28</th>\n      <td>Sucre</td>\n      <td>1.151627e+07</td>\n      <td>904863</td>\n      <td>12.727088</td>\n    </tr>\n    <tr>\n      <th>29</th>\n      <td>Tolima</td>\n      <td>3.043818e+07</td>\n      <td>1330187</td>\n      <td>22.882632</td>\n    </tr>\n    <tr>\n      <th>30</th>\n      <td>Valle del Cauca</td>\n      <td>1.398632e+08</td>\n      <td>4475886</td>\n      <td>31.248149</td>\n    </tr>\n    <tr>\n      <th>31</th>\n      <td>Vaupés</td>\n      <td>3.818517e+05</td>\n      <td>40797</td>\n      <td>9.359798</td>\n    </tr>\n    <tr>\n      <th>32</th>\n      <td>Vichada</td>\n      <td>9.565767e+05</td>\n      <td>107808</td>\n      <td>8.872966</td>\n    </tr>\n  </tbody>\n</table>\n</div>"
     },
     "execution_count": 11,
     "metadata": {},
     "output_type": "execute_result"
    }
   ],
   "source": [
    "df"
   ]
  },
  {
   "cell_type": "markdown",
   "id": "9ba99b1c-2650-478f-ba49-60236f63e70c",
   "metadata": {},
   "source": [
    "## 1.1 ¿Cuál es la media, mediana y desviación estándar?, y la moda y los valores repeticiones de la moda para los datos categóricos"
   ]
  },
  {
   "cell_type": "markdown",
   "id": "8d404ede-0b3b-4a81-b8a4-eecbc4b084a1",
   "metadata": {},
   "source": [
    "### Media"
   ]
  },
  {
   "cell_type": "code",
   "execution_count": 12,
   "id": "7e787630-c793-451c-b84b-6cbb5a63edde",
   "metadata": {
    "ExecuteTime": {
     "end_time": "2024-03-11T16:53:44.768630400Z",
     "start_time": "2024-03-11T16:53:44.582481900Z"
    }
   },
   "outputs": [
    {
     "name": "stdout",
     "output_type": "stream",
     "text": [
      "Mean of PIB : 44318861.805990905\n",
      "Mean of Population: 1462378.606060606\n",
      "Mean of PIB per capita: 24.40785586842424\n"
     ]
    }
   ],
   "source": [
    "def calculate_mean(column):\n",
    "    return column.sum() / len(column)\n",
    "    \n",
    "mean_1 = calculate_mean(column_1)\n",
    "mean_2 = calculate_mean(column_2)\n",
    "mean_3 = calculate_mean(column_3)\n",
    "\n",
    "print(f\"Mean of PIB : {mean_1}\")\n",
    "print(f\"Mean of Population: {mean_2}\")\n",
    "print(f\"Mean of PIB per capita: {mean_3}\")"
   ]
  },
  {
   "cell_type": "markdown",
   "id": "6781b652-64df-4874-9427-defe976a11b2",
   "metadata": {},
   "source": [
    "### Median"
   ]
  },
  {
   "cell_type": "code",
   "execution_count": 13,
   "id": "2049f4a7-64ca-437b-bdac-9c4be3c47635",
   "metadata": {
    "ExecuteTime": {
     "end_time": "2024-03-11T16:53:44.799874500Z",
     "start_time": "2024-03-11T16:53:44.590040Z"
    }
   },
   "outputs": [
    {
     "name": "stdout",
     "output_type": "stream",
     "text": [
      "Median of PIB: 23660657.37\n",
      "Median of Population: 1039722\n",
      "Median of PIB per capita: 22.8826324\n"
     ]
    }
   ],
   "source": [
    "def calculate_median(column):\n",
    "    n = len(column)\n",
    "    sortedColumn = sorted(column)\n",
    "    if n % 2 == 0:\n",
    "        median = (sortedColumn[n//2 - 1] + sortedColumn[n//2]) / 2\n",
    "    else:\n",
    "        median = sortedColumn[n//2]\n",
    "    return median\n",
    "\n",
    "# Calculate median\n",
    "median_1 = calculate_median(column_1)\n",
    "median_2 = calculate_median(column_2)\n",
    "median_3 = calculate_median(column_3)\n",
    "\n",
    "print(f\"Median of PIB: {median_1}\")\n",
    "print(f\"Median of Population: {median_2}\")\n",
    "print(f\"Median of PIB per capita: {median_3}\")"
   ]
  },
  {
   "cell_type": "markdown",
   "id": "97b59b7b-461d-4a35-ab95-e5fcf55f8a06",
   "metadata": {},
   "source": [
    "### Standard Deviation"
   ]
  },
  {
   "cell_type": "code",
   "execution_count": 14,
   "id": "b8f5ac59-b5ef-40ed-add3-d3191727b5a9",
   "metadata": {
    "ExecuteTime": {
     "end_time": "2024-03-11T16:53:44.799874500Z",
     "start_time": "2024-03-11T16:53:44.598042600Z"
    }
   },
   "outputs": [
    {
     "name": "stdout",
     "output_type": "stream",
     "text": [
      "Standard Deviation of GDP Millions: 70579141.03250532\n",
      "Standard Deviation of Population: 1679508.5872436275\n",
      "Standard Deviation of GDP per capita Millions: 12.57181023560453\n"
     ]
    }
   ],
   "source": [
    "def calculate_std_dev(column, mean):\n",
    "    n = len(column)\n",
    "    differences = [(value - mean) ** 2 for value in column]\n",
    "    variance = sum(differences) / n\n",
    "    std = variance ** 0.5\n",
    "    return std\n",
    "\n",
    "# Calculate standard deviation\n",
    "std_1 = calculate_std_dev(column_1, mean_1)\n",
    "std_2 = calculate_std_dev(column_2, mean_2)\n",
    "std_3 = calculate_std_dev(column_3, mean_3)\n",
    "\n",
    "print(f\"Standard Deviation of GDP Millions: {std_1}\")\n",
    "print(f\"Standard Deviation of Population: {std_2}\")\n",
    "print(f\"Standard Deviation of GDP per capita Millions: {std_3}\")"
   ]
  },
  {
   "cell_type": "markdown",
   "id": "9e69c7bf-00e4-4051-a79c-e29e857edadf",
   "metadata": {},
   "source": [
    "### Mode"
   ]
  },
  {
   "cell_type": "code",
   "execution_count": 15,
   "id": "375e1ecc-c403-4831-868b-9e372ae12bda",
   "metadata": {
    "ExecuteTime": {
     "end_time": "2024-03-11T16:53:44.799874500Z",
     "start_time": "2024-03-11T16:53:44.605972100Z"
    }
   },
   "outputs": [
    {
     "name": "stdout",
     "output_type": "stream",
     "text": [
      "The mode of the PIB is:\n",
      "There isn't a specific mode\n",
      "The mode of the Population is:\n",
      "There isn't a specific mode\n",
      "The mode of the PIB per capita is:\n",
      "There isn't a specific mode\n"
     ]
    }
   ],
   "source": [
    "from collections import Counter\n",
    "\n",
    "def calculate_mode(column):\n",
    "    count = Counter(column)\n",
    "    mode = count.most_common(1)\n",
    "    \n",
    "    if len(mode) == 0 or mode[0][1] == 1:\n",
    "        print(\"There isn't a specific mode\")\n",
    "        return\n",
    "    \n",
    "    mode = mode[0][0]\n",
    "\n",
    "    print(f\"Mode: {mode}\")\n",
    "    print(\"Recount:\")\n",
    "    for key, value in count.items():\n",
    "        print(f\"  {key}: {value}\")\n",
    "print(\"The mode of the PIB is:\")\n",
    "calculate_mode(column_1)\n",
    "print(\"The mode of the Population is:\")\n",
    "calculate_mode(column_2)\n",
    "print(\"The mode of the PIB per capita is:\")\n",
    "calculate_mode(column_3)"
   ]
  },
  {
   "cell_type": "markdown",
   "id": "15a3a5f6-2d34-4fdc-906c-8190c88c3220",
   "metadata": {},
   "source": [
    "## 1.2 Dibujar un boxplot a mano. Utilizando los datos de la tabla 1 y las siguientes proporciones."
   ]
  },
  {
   "cell_type": "code",
   "execution_count": 16,
   "id": "b94c8afc-59d0-46a8-a33f-4471b496d658",
   "metadata": {
    "ExecuteTime": {
     "end_time": "2024-03-11T16:53:45.280629Z",
     "start_time": "2024-03-11T16:53:44.621470700Z"
    }
   },
   "outputs": [
    {
     "data": {
      "text/plain": "<Figure size 800x600 with 1 Axes>",
      "image/png": "[encoded data removed]"
     },
     "metadata": {},
     "output_type": "display_data"
    },
    {
     "data": {
      "text/plain": "<Figure size 800x600 with 1 Axes>",
      "image/png": "[encoded data removed]"
     },
     "metadata": {},
     "output_type": "display_data"
    },
    {
     "data": {
      "text/plain": "<Figure size 800x600 with 1 Axes>",
      "image/png": "[encoded data removed]"
     },
     "metadata": {},
     "output_type": "display_data"
    }
   ],
   "source": [
    "def calculate_quartile(column):\n",
    "    n = len(column)\n",
    "    ordered_column = sorted(column)\n",
    "    if n % 2 == 0:\n",
    "        q1_index = n // 4\n",
    "        q3_index = 3 * (n // 4)\n",
    "        q1 = (ordered_column[q1_index - 1] + ordered_column[q1_index]) / 2\n",
    "        q3 = (ordered_column[q3_index - 1] + ordered_column[q3_index]) / 2\n",
    "    else:\n",
    "        q1_index = (n + 1) // 4\n",
    "        q3_index = 3 * (n + 1) // 4\n",
    "        q1 = ordered_column[q1_index - 1]\n",
    "        q3 = ordered_column[q3_index - 1]\n",
    "    \n",
    "    return q1, q3\n",
    "\n",
    "def manual_boxplot(column, median, name_boxplot):\n",
    "    q1, q3 = calculate_quartile(column)\n",
    "    plt.figure(figsize=(8, 6))\n",
    "    box = plt.boxplot(column, patch_artist=True)\n",
    "\n",
    "    plt.plot([1, 1], [q1, q3], 'r--', marker='o', markersize=8, label='Quartile')\n",
    "    plt.axhline(y=median, color='g', linestyle='--', label='Median')\n",
    "\n",
    "    colors = ['lightblue', 'lightgreen', 'lightyellow']\n",
    "    for patch, color in zip(box['boxes'], colors):\n",
    "        patch.set_facecolor(color)\n",
    "\n",
    "    plt.text(1, q1, f' Q1: {q1}', horizontalalignment='left', verticalalignment='center', fontsize=10, color='blue')\n",
    "    plt.text(1, q3, f' Q3: {q3}', horizontalalignment='left', verticalalignment='center', fontsize=10, color='blue')\n",
    "    plt.text(1, median, f' Median: {median}', horizontalalignment='left', verticalalignment='center', fontsize=10, color='green')\n",
    "    plt.title(name_boxplot)\n",
    "    plt.xlabel('Data')\n",
    "    plt.ylabel('Value')\n",
    "    plt.legend()\n",
    "    plt.grid(True)\n",
    "\n",
    "manual_boxplot(column_1, median_1, 'PIB')\n",
    "manual_boxplot(column_2, median_2, 'Population')\n",
    "manual_boxplot(column_3, median_3, 'PIB per capita')"
   ]
  },
  {
   "cell_type": "markdown",
   "id": "ec737a78-e327-4310-8b29-cb16696c4f94",
   "metadata": {},
   "source": [
    "## 1.3 Cual es la covarianza entre las 2 variables X1, X2"
   ]
  },
  {
   "cell_type": "code",
   "execution_count": 17,
   "id": "d11d749b-7886-4f05-8fdd-086bcd8af981",
   "metadata": {
    "ExecuteTime": {
     "end_time": "2024-03-11T16:53:45.280629Z",
     "start_time": "2024-03-11T16:53:45.203430Z"
    }
   },
   "outputs": [
    {
     "name": "stdout",
     "output_type": "stream",
     "text": [
      "the covariance is: 113233718703629.06\n"
     ]
    }
   ],
   "source": [
    "def calculate_covariance(column_x1, column_x2):\n",
    "    mean_x1 = calculate_mean(column_x1)\n",
    "    mean_x2 = calculate_mean(column_x2)\n",
    "\n",
    "    return sum((column_x1[i] - mean_x1) * (column_x2[i] - mean_x2) for i in range(len(column_x1))) / len(column_x1)\n",
    "covariance = calculate_covariance(column_1, column_2)\n",
    "print(f\"the covariance is: {covariance}\")"
   ]
  },
  {
   "cell_type": "markdown",
   "source": [
    "## 1.4 Cuál es la correlación entre la variable x1 y x2"
   ],
   "metadata": {
    "collapsed": false
   },
   "id": "6f6f4dd4d3bb19ba"
  },
  {
   "cell_type": "markdown",
   "source": [],
   "metadata": {
    "collapsed": false
   },
   "id": "7d0191a166bae596"
  },
  {
   "cell_type": "code",
   "execution_count": 18,
   "outputs": [
    {
     "name": "stdout",
     "output_type": "stream",
     "text": [
      "the correlation is: 0.9552502783564497\n"
     ]
    }
   ],
   "source": [
    "def calculate_numerator(column_x1, column_x2):\n",
    "    \n",
    "    mean_x1 = calculate_mean(column_x1)\n",
    "    mean_x2 = calculate_mean(column_x2)\n",
    "    numerator = 0\n",
    "    for i in range(len(column_x1)):\n",
    "        std_1 = column_x1[i] - mean_x1\n",
    "        std_2 = column_x2[i] - mean_x2\n",
    "        numerator += std_1 * std_2\n",
    "    return numerator\n",
    "\n",
    "def calculate_denominator(column):\n",
    "    sum = 0\n",
    "    mean = calculate_mean(column)\n",
    "    for value in column:\n",
    "        std = value - mean\n",
    "        square_std = std ** 2\n",
    "        sum += square_std\n",
    "    return math.sqrt(sum)\n",
    "\n",
    "def calculate_correlation(column_1, column_2):\n",
    "    numerator = calculate_numerator(column_1, column_2)\n",
    "    denominator = calculate_denominator(column_1) * calculate_denominator(column_2)\n",
    "    correlation = numerator / denominator\n",
    "    return correlation\n",
    "\n",
    "print(f\"the correlation is: {calculate_correlation(column_1, column_2)}\")"
   ],
   "metadata": {
    "collapsed": false,
    "ExecuteTime": {
     "end_time": "2024-03-11T16:53:45.280629Z",
     "start_time": "2024-03-11T16:53:45.217639400Z"
    }
   },
   "id": "6158af2042a4e90b"
  },
  {
   "cell_type": "markdown",
   "source": [
    "## 1.5 Explica la relación entre covarianza y correlación"
   ],
   "metadata": {
    "collapsed": false
   },
   "id": "4e9e0f1b2a2ed20d"
  },
  {
   "cell_type": "markdown",
   "source": [
    "Covariance and correlation are functions designed to measure the linear connection between two variables. Both metrics evaluate the strength and direction of this relationship, showing negative values for inverse associations, zero for weak or non-existent connections, and positive values for direct correlations.\n",
    "\n",
    "In contrast to covariance, the Pearson correlation offers a normalized perspective. Its standard values proceed from dividing covariance by the product of the standard deviations of the two variables."
   ],
   "metadata": {
    "collapsed": false
   },
   "id": "4f2757e93109877b"
  },
  {
   "cell_type": "markdown",
   "source": [
    "## 1.6 Calcule el resultado del algoritmo K-means sobre este set de datos a mano como lo hicimos en excel. Vamos a crear 4 grupos, es decir, k=4 (clusters)"
   ],
   "metadata": {
    "collapsed": false
   },
   "id": "5c1c7f25fcba94f3"
  },
  {
   "cell_type": "code",
   "execution_count": 18,
   "outputs": [],
   "source": [],
   "metadata": {
    "collapsed": false,
    "ExecuteTime": {
     "end_time": "2024-03-11T16:53:45.280629Z",
     "start_time": "2024-03-11T16:53:45.223729300Z"
    }
   },
   "id": "b8327a77a12c7aaa"
  },
  {
   "cell_type": "code",
   "execution_count": 19,
   "outputs": [
    {
     "name": "stdout",
     "output_type": "stream",
     "text": [
      "-------------------------------------------------\n",
      "\t* Centroid (5435949.991649998, 332024.2): 0\n",
      "\t- 63764770.77, 2535517.0\n",
      "\t- 51404352.37, 2070110.0\n",
      "\t- 38858162.12, 1217376.0\n",
      "\t- 23953112.45, 998255.0\n",
      "\t- 23660657.37, 420504.0\n",
      "\t- 25758151.71, 1464488.0\n",
      "\t- 37523918.98, 1200574.0\n",
      "\t- 24991953.76, 1784783.0\n",
      "\t- 24011616.06, 1100386.0\n",
      "\t- 22262575.88, 880560.0\n",
      "\t- 19738417.36, 1341746.0\n",
      "\t- 58439500.07, 1039722.0\n",
      "\t- 21775426.15, 1630592.0\n",
      "\t- 23056874.23, 1491689.0\n",
      "\t- 23786362.42, 943401.0\n",
      "\t- 30438180.15, 1330187.0\n",
      "\t* Centroid (178771870.428, 4679890.2): 1\n",
      "\t- 1067855.672, 76589.0\n",
      "\t- 8548114.653, 262174.0\n",
      "\t- 5461366.78, 401849.0\n",
      "\t- 6001844.915, 534826.0\n",
      "\t- 1123857.696, 82767.0\n",
      "\t- 5616558.269, 348182.0\n",
      "\t- 11941644.16, 539904.0\n",
      "\t- 2125410.333, 61280.0\n",
      "\t- 11516270.76, 904863.0\n",
      "\t- 956576.6785, 107808.0\n",
      "\t* Centroid (32089001.990624998, 1340618.125): 2\n",
      "\t- 212514957.4, 6407102.0\n",
      "\t- 357258620.8, 7412566.0\n",
      "\t- 91945942.28, 2919060.0\n",
      "\t- 92276678.16, 2184837.0\n",
      "\t- 139863153.5, 4475886.0\n",
      "\t* Centroid (439777.8456, 44455.5): 3\n",
      "\t- 497704.0127, 48114.0\n",
      "\t- 381851.6785, 40797.0\n",
      "----------------------------------------------------\n",
      "-------------------------------------------------\n",
      "\t* Centroid (1025542.6784500001, 69559.16666666667): 0\n",
      "\t- 8548114.653, 262174.0\n",
      "\t- 5461366.78, 401849.0\n",
      "\t- 6001844.915, 534826.0\n",
      "\t- 5616558.269, 348182.0\n",
      "\t- 11941644.16, 539904.0\n",
      "\t- 11516270.76, 904863.0\n",
      "\t* Centroid (236545577.23333335, 6098518.0): 1\n",
      "\t- 212514957.4, 6407102.0\n",
      "\t- 357258620.8, 7412566.0\n",
      "\t- 139863153.5, 4475886.0\n",
      "\t* Centroid (8180966.5895, 498633.0): 2\n",
      "\t- 63764770.77, 2535517.0\n",
      "\t- 51404352.37, 2070110.0\n",
      "\t- 38858162.12, 1217376.0\n",
      "\t- 23953112.45, 998255.0\n",
      "\t- 23660657.37, 420504.0\n",
      "\t- 25758151.71, 1464488.0\n",
      "\t- 37523918.98, 1200574.0\n",
      "\t- 24991953.76, 1784783.0\n",
      "\t- 91945942.28, 2919060.0\n",
      "\t- 24011616.06, 1100386.0\n",
      "\t- 22262575.88, 880560.0\n",
      "\t- 19738417.36, 1341746.0\n",
      "\t- 58439500.07, 1039722.0\n",
      "\t- 21775426.15, 1630592.0\n",
      "\t- 23056874.23, 1491689.0\n",
      "\t- 23786362.42, 943401.0\n",
      "\t- 92276678.16, 2184837.0\n",
      "\t- 30438180.15, 1330187.0\n",
      "\t* Centroid (38758147.349444434, 1475210.388888889): 3\n",
      "\t- 1067855.672, 76589.0\n",
      "\t- 497704.0127, 48114.0\n",
      "\t- 1123857.696, 82767.0\n",
      "\t- 2125410.333, 61280.0\n",
      "\t- 381851.6785, 40797.0\n",
      "\t- 956576.6785, 107808.0\n",
      "----------------------------------------------------\n",
      "-------------------------------------------------\n",
      "\t* Centroid (1025542.6784500001, 69559.16666666667): 0\n",
      "\t- 1067855.672, 76589.0\n",
      "\t- 497704.0127, 48114.0\n",
      "\t- 1123857.696, 82767.0\n",
      "\t- 2125410.333, 61280.0\n",
      "\t- 381851.6785, 40797.0\n",
      "\t- 956576.6785, 107808.0\n",
      "\t* Centroid (236545577.23333335, 6098518.0): 1\n",
      "\t- 212514957.4, 6407102.0\n",
      "\t- 357258620.8, 7412566.0\n",
      "\t- 139863153.5, 4475886.0\n",
      "\t* Centroid (13591909.3157, 833638.5): 2\n",
      "\t- 8548114.653, 262174.0\n",
      "\t- 5461366.78, 401849.0\n",
      "\t- 6001844.915, 534826.0\n",
      "\t- 22262575.88, 880560.0\n",
      "\t- 19738417.36, 1341746.0\n",
      "\t- 21775426.15, 1630592.0\n",
      "\t- 23056874.23, 1491689.0\n",
      "\t- 5616558.269, 348182.0\n",
      "\t- 11941644.16, 539904.0\n",
      "\t- 11516270.76, 904863.0\n",
      "\t* Centroid (43629525.61928571, 1514942.857142857): 3\n",
      "\t- 63764770.77, 2535517.0\n",
      "\t- 51404352.37, 2070110.0\n",
      "\t- 38858162.12, 1217376.0\n",
      "\t- 23953112.45, 998255.0\n",
      "\t- 23660657.37, 420504.0\n",
      "\t- 25758151.71, 1464488.0\n",
      "\t- 37523918.98, 1200574.0\n",
      "\t- 24991953.76, 1784783.0\n",
      "\t- 91945942.28, 2919060.0\n",
      "\t- 24011616.06, 1100386.0\n",
      "\t- 58439500.07, 1039722.0\n",
      "\t- 23786362.42, 943401.0\n",
      "\t- 92276678.16, 2184837.0\n",
      "\t- 30438180.15, 1330187.0\n",
      "----------------------------------------------------\n",
      "-------------------------------------------------\n",
      "\t* Centroid (2581447.3371888893, 189134.66666666666): 0\n",
      "\t- 1067855.672, 76589.0\n",
      "\t- 5461366.78, 401849.0\n",
      "\t- 6001844.915, 534826.0\n",
      "\t- 497704.0127, 48114.0\n",
      "\t- 1123857.696, 82767.0\n",
      "\t- 5616558.269, 348182.0\n",
      "\t- 2125410.333, 61280.0\n",
      "\t- 381851.6785, 40797.0\n",
      "\t- 956576.6785, 107808.0\n",
      "\t* Centroid (284886789.1, 6909834.0): 1\n",
      "\t- 212514957.4, 6407102.0\n",
      "\t- 357258620.8, 7412566.0\n",
      "\t* Centroid (20384705.92023077, 1058718.8461538462): 2\n",
      "\t- 8548114.653, 262174.0\n",
      "\t- 23953112.45, 998255.0\n",
      "\t- 23660657.37, 420504.0\n",
      "\t- 25758151.71, 1464488.0\n",
      "\t- 24991953.76, 1784783.0\n",
      "\t- 24011616.06, 1100386.0\n",
      "\t- 22262575.88, 880560.0\n",
      "\t- 19738417.36, 1341746.0\n",
      "\t- 21775426.15, 1630592.0\n",
      "\t- 23056874.23, 1491689.0\n",
      "\t- 11941644.16, 539904.0\n",
      "\t- 23786362.42, 943401.0\n",
      "\t- 11516270.76, 904863.0\n",
      "\t* Centroid (67168295.37777777, 2108141.0): 3\n",
      "\t- 63764770.77, 2535517.0\n",
      "\t- 51404352.37, 2070110.0\n",
      "\t- 38858162.12, 1217376.0\n",
      "\t- 37523918.98, 1200574.0\n",
      "\t- 91945942.28, 2919060.0\n",
      "\t- 58439500.07, 1039722.0\n",
      "\t- 92276678.16, 2184837.0\n",
      "\t- 30438180.15, 1330187.0\n",
      "\t- 139863153.5, 4475886.0\n",
      "----------------------------------------------------\n",
      "-------------------------------------------------\n",
      "\t* Centroid (3178114.06877, 196438.6): 0\n",
      "\t- 1067855.672, 76589.0\n",
      "\t- 8548114.653, 262174.0\n",
      "\t- 5461366.78, 401849.0\n",
      "\t- 6001844.915, 534826.0\n",
      "\t- 497704.0127, 48114.0\n",
      "\t- 1123857.696, 82767.0\n",
      "\t- 5616558.269, 348182.0\n",
      "\t- 2125410.333, 61280.0\n",
      "\t- 381851.6785, 40797.0\n",
      "\t- 956576.6785, 107808.0\n",
      "\t* Centroid (284886789.1, 6909834.0): 1\n",
      "\t- 212514957.4, 6407102.0\n",
      "\t- 357258620.8, 7412566.0\n",
      "\t* Centroid (82949066.19166666, 2537522.0): 2\n",
      "\t- 38858162.12, 1217376.0\n",
      "\t- 23953112.45, 998255.0\n",
      "\t- 23660657.37, 420504.0\n",
      "\t- 25758151.71, 1464488.0\n",
      "\t- 37523918.98, 1200574.0\n",
      "\t- 24991953.76, 1784783.0\n",
      "\t- 24011616.06, 1100386.0\n",
      "\t- 22262575.88, 880560.0\n",
      "\t- 19738417.36, 1341746.0\n",
      "\t- 21775426.15, 1630592.0\n",
      "\t- 23056874.23, 1491689.0\n",
      "\t- 11941644.16, 539904.0\n",
      "\t- 23786362.42, 943401.0\n",
      "\t- 11516270.76, 904863.0\n",
      "\t- 30438180.15, 1330187.0\n",
      "\t* Centroid (24218221.570666667, 1149953.8666666667): 3\n",
      "\t- 63764770.77, 2535517.0\n",
      "\t- 51404352.37, 2070110.0\n",
      "\t- 91945942.28, 2919060.0\n",
      "\t- 58439500.07, 1039722.0\n",
      "\t- 92276678.16, 2184837.0\n",
      "\t- 139863153.5, 4475886.0\n",
      "----------------------------------------------------\n",
      "-------------------------------------------------\n",
      "\t* Centroid (4603254.633974999, 284096.0833333333): 0\n",
      "\t- 1067855.672, 76589.0\n",
      "\t- 8548114.653, 262174.0\n",
      "\t- 5461366.78, 401849.0\n",
      "\t- 6001844.915, 534826.0\n",
      "\t- 497704.0127, 48114.0\n",
      "\t- 1123857.696, 82767.0\n",
      "\t- 5616558.269, 348182.0\n",
      "\t- 11941644.16, 539904.0\n",
      "\t- 2125410.333, 61280.0\n",
      "\t- 11516270.76, 904863.0\n",
      "\t- 381851.6785, 40797.0\n",
      "\t- 956576.6785, 107808.0\n",
      "\t* Centroid (284886789.1, 6909834.0): 1\n",
      "\t- 212514957.4, 6407102.0\n",
      "\t- 357258620.8, 7412566.0\n",
      "\t* Centroid (89258008.956, 2631004.4): 2\n",
      "\t- 63764770.77, 2535517.0\n",
      "\t- 91945942.28, 2919060.0\n",
      "\t- 58439500.07, 1039722.0\n",
      "\t- 92276678.16, 2184837.0\n",
      "\t- 139863153.5, 4475886.0\n",
      "\t* Centroid (27944268.64357143, 1276760.7857142857): 3\n",
      "\t- 51404352.37, 2070110.0\n",
      "\t- 38858162.12, 1217376.0\n",
      "\t- 23953112.45, 998255.0\n",
      "\t- 23660657.37, 420504.0\n",
      "\t- 25758151.71, 1464488.0\n",
      "\t- 37523918.98, 1200574.0\n",
      "\t- 24991953.76, 1784783.0\n",
      "\t- 24011616.06, 1100386.0\n",
      "\t- 22262575.88, 880560.0\n",
      "\t- 19738417.36, 1341746.0\n",
      "\t- 21775426.15, 1630592.0\n",
      "\t- 23056874.23, 1491689.0\n",
      "\t- 23786362.42, 943401.0\n",
      "\t- 30438180.15, 1330187.0\n",
      "----------------------------------------------------\n",
      "-------------------------------------------------\n",
      "\t* Centroid (4603254.633974999, 284096.0833333333): 0\n",
      "\t- 1067855.672, 76589.0\n",
      "\t- 8548114.653, 262174.0\n",
      "\t- 5461366.78, 401849.0\n",
      "\t- 6001844.915, 534826.0\n",
      "\t- 497704.0127, 48114.0\n",
      "\t- 1123857.696, 82767.0\n",
      "\t- 5616558.269, 348182.0\n",
      "\t- 11941644.16, 539904.0\n",
      "\t- 2125410.333, 61280.0\n",
      "\t- 11516270.76, 904863.0\n",
      "\t- 381851.6785, 40797.0\n",
      "\t- 956576.6785, 107808.0\n",
      "\t* Centroid (284886789.1, 6909834.0): 1\n",
      "\t- 212514957.4, 6407102.0\n",
      "\t- 357258620.8, 7412566.0\n",
      "\t* Centroid (96962636.17750001, 3028825.0): 2\n",
      "\t- 63764770.77, 2535517.0\n",
      "\t- 91945942.28, 2919060.0\n",
      "\t- 92276678.16, 2184837.0\n",
      "\t- 139863153.5, 4475886.0\n",
      "\t* Centroid (29977284.072, 1260958.2): 3\n",
      "\t- 51404352.37, 2070110.0\n",
      "\t- 38858162.12, 1217376.0\n",
      "\t- 23953112.45, 998255.0\n",
      "\t- 23660657.37, 420504.0\n",
      "\t- 25758151.71, 1464488.0\n",
      "\t- 37523918.98, 1200574.0\n",
      "\t- 24991953.76, 1784783.0\n",
      "\t- 24011616.06, 1100386.0\n",
      "\t- 22262575.88, 880560.0\n",
      "\t- 19738417.36, 1341746.0\n",
      "\t- 58439500.07, 1039722.0\n",
      "\t- 21775426.15, 1630592.0\n",
      "\t- 23056874.23, 1491689.0\n",
      "\t- 23786362.42, 943401.0\n",
      "\t- 30438180.15, 1330187.0\n",
      "----------------------------------------------------\n",
      "-------------------------------------------------\n",
      "\t* Centroid (4603254.633974999, 284096.0833333333): 0\n",
      "\t- 1067855.672, 76589.0\n",
      "\t- 8548114.653, 262174.0\n",
      "\t- 5461366.78, 401849.0\n",
      "\t- 6001844.915, 534826.0\n",
      "\t- 497704.0127, 48114.0\n",
      "\t- 1123857.696, 82767.0\n",
      "\t- 5616558.269, 348182.0\n",
      "\t- 11941644.16, 539904.0\n",
      "\t- 2125410.333, 61280.0\n",
      "\t- 11516270.76, 904863.0\n",
      "\t- 381851.6785, 40797.0\n",
      "\t- 956576.6785, 107808.0\n",
      "\t* Centroid (284886789.1, 6909834.0): 1\n",
      "\t- 212514957.4, 6407102.0\n",
      "\t- 357258620.8, 7412566.0\n",
      "\t* Centroid (96962636.17750001, 3028825.0): 2\n",
      "\t- 63764770.77, 2535517.0\n",
      "\t- 91945942.28, 2919060.0\n",
      "\t- 92276678.16, 2184837.0\n",
      "\t- 139863153.5, 4475886.0\n",
      "\t* Centroid (29977284.072, 1260958.2): 3\n",
      "\t- 51404352.37, 2070110.0\n",
      "\t- 38858162.12, 1217376.0\n",
      "\t- 23953112.45, 998255.0\n",
      "\t- 23660657.37, 420504.0\n",
      "\t- 25758151.71, 1464488.0\n",
      "\t- 37523918.98, 1200574.0\n",
      "\t- 24991953.76, 1784783.0\n",
      "\t- 24011616.06, 1100386.0\n",
      "\t- 22262575.88, 880560.0\n",
      "\t- 19738417.36, 1341746.0\n",
      "\t- 58439500.07, 1039722.0\n",
      "\t- 21775426.15, 1630592.0\n",
      "\t- 23056874.23, 1491689.0\n",
      "\t- 23786362.42, 943401.0\n",
      "\t- 30438180.15, 1330187.0\n",
      "----------------------------------------------------\n"
     ]
    },
    {
     "name": "stderr",
     "output_type": "stream",
     "text": [
      "C:\\Users\\Usuario\\AppData\\Local\\Temp\\ipykernel_5664\\591790187.py:30: FutureWarning: Series.__getitem__ treating keys as positions is deprecated. In a future version, integer keys will always be treated as labels (consistent with DataFrame behavior). To access a value by position, use `ser.iloc[pos]`\n",
      "  return math.sqrt((point_p[0] - point_q[0]) ** 2 + (point_p[1] - point_q[1]) ** 2)\n"
     ]
    },
    {
     "data": {
      "text/plain": "<Figure size 640x480 with 1 Axes>",
      "image/png": "[encoded data removed]"
     },
     "metadata": {},
     "output_type": "display_data"
    }
   ],
   "source": [
    "import numpy as np\n",
    "import math\n",
    "\n",
    "def show_centroids(titles, clusters, final_centroids):\n",
    "    color_list = ['blue', 'red', 'purple', 'green']\n",
    "    for cluster_index, cluster_points in clusters.items():\n",
    "        cluster_points = np.array(cluster_points)\n",
    "        plt.scatter(cluster_points[:, 0], cluster_points[:, 1], c=color_list[cluster_index],\n",
    "                    label=f'Cluster {cluster_index + 1}')\n",
    "\n",
    "    final_centroids = np.array(final_centroids)\n",
    "\n",
    "    plt.scatter(final_centroids[:, 0], final_centroids[:, 1], c='black', marker='x', label='Centroids')\n",
    "    plt.xlabel(titles[0])\n",
    "    plt.ylabel(titles[1])\n",
    "    plt.legend()\n",
    "    plt.title(\"K Means\")\n",
    "    plt.show()\n",
    "\n",
    "# Calculate K-Means\n",
    "def print_calculation(clusters, centroids):\n",
    "    print(\"-------------------------------------------------\")\n",
    "    for i, centroid in enumerate(centroids):\n",
    "        print(f\"\\t* Centroid ({centroid[0]}, {centroid[1]}): {i}\")\n",
    "        for point in clusters[i]:\n",
    "            print(f\"\\t- {point[0]}, {point[1]}\")\n",
    "    print(\"----------------------------------------------------\")\n",
    "\n",
    "def euclidean_distance(point_p, point_q):\n",
    "    return math.sqrt((point_p[0] - point_q[0]) ** 2 + (point_p[1] - point_q[1]) ** 2)\n",
    "\n",
    "def assign_clusters(data, centroids):\n",
    "    clusters = {}\n",
    "    for index, row in data.iterrows():\n",
    "        distances = [euclidean_distance(row, centroid) for centroid in centroids]\n",
    "        cluster_assignment = np.argmin(distances)\n",
    "        if cluster_assignment not in clusters:\n",
    "            clusters[cluster_assignment] = [row.values]\n",
    "        else:\n",
    "            clusters[cluster_assignment].append(row.values)\n",
    "    return clusters\n",
    "\n",
    "def update_centroids(clusters):\n",
    "    centroids = [np.mean(cluster, axis=0) for cluster in clusters.values()]\n",
    "    return centroids\n",
    "\n",
    "def calculate_k_means(data, k, max_iterations=100):\n",
    "    # Centroid initialization\n",
    "    initial_centroids_indices = np.random.choice(len(data), k, replace=False)\n",
    "    centroids = data.iloc[initial_centroids_indices].values\n",
    "\n",
    "    while_counter = 1\n",
    "    is_calculation_finished = False\n",
    "    while not is_calculation_finished and while_counter <= max_iterations:\n",
    "        clusters = assign_clusters(data, centroids)\n",
    "        new_centroids = update_centroids(clusters)\n",
    "\n",
    "        if while_counter == max_iterations:\n",
    "            print(\"Warning, maximum number of iterations reached without convergence.\")    \n",
    "        elif np.all(np.isclose(centroids, new_centroids)):\n",
    "            is_calculation_finished = True\n",
    "        else:\n",
    "            centroids = new_centroids\n",
    "            \n",
    "        print_calculation(clusters, centroids)\n",
    "        while_counter += 1\n",
    "    return clusters, centroids\n",
    "\n",
    "k = 4\n",
    "df_kmeans = pd.DataFrame({'column_1': column_1, 'column_2': column_2})\n",
    "\n",
    "clusters, centroids = calculate_k_means(df_kmeans, k)\n",
    "show_centroids([\"1\", \"2\"], clusters, centroids)"
   ],
   "metadata": {
    "collapsed": false,
    "ExecuteTime": {
     "end_time": "2024-03-11T16:53:45.585428800Z",
     "start_time": "2024-03-11T16:53:45.224234600Z"
    }
   },
   "id": "50584ffe82dc3bcc"
  },
  {
   "cell_type": "code",
   "execution_count": 19,
   "outputs": [],
   "source": [],
   "metadata": {
    "collapsed": false,
    "ExecuteTime": {
     "end_time": "2024-03-11T16:53:45.585428800Z",
     "start_time": "2024-03-11T16:53:45.530406800Z"
    }
   },
   "id": "b7d0717dc7a2c99e"
  }
 ],
 "metadata": {
  "kernelspec": {
   "display_name": "Python 3 (ipykernel)",
   "language": "python",
   "name": "python3"
  },
  "language_info": {
   "codemirror_mode": {
    "name": "ipython",
    "version": 3
   },
   "file_extension": ".py",
   "mimetype": "text/x-python",
   "name": "python",
   "nbconvert_exporter": "python",
   "pygments_lexer": "ipython3",
   "version": "3.11.7"
  }
 },
 "nbformat": 4,
 "nbformat_minor": 5
}
